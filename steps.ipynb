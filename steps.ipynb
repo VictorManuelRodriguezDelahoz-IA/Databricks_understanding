{
 "cells": [
  {
   "cell_type": "markdown",
   "metadata": {},
   "source": [
    "# Pasos para trabajar con Databricks en VS Code"
   ]
  },
  {
   "cell_type": "markdown",
   "metadata": {},
   "source": [
    "### Requerimientos:"
   ]
  },
  {
   "cell_type": "markdown",
   "metadata": {},
   "source": [
    "1. Tener un entorno virtual instalado con python.\n",
    "2. Contar con VS Code y una conexion con el entorno.\n",
    "3. Tener credendiales de tu cuenta de Azure.\n",
    "4. Contar con los valores de la suscripcion Azure y el ID del tenant al que deseas conectarte.\n",
    "5. Tener una cuenta que cuente con accesos al databricks que pretendemos coenctarnos.\n",
    "6. Tener el host del workspace de databricks al que necesitas ingresar."
   ]
  },
  {
   "cell_type": "markdown",
   "metadata": {},
   "source": [
    "### Pasos:"
   ]
  },
  {
   "cell_type": "markdown",
   "metadata": {},
   "source": [
    "1. Instala la extension de python y de Databricks en visual studio code <br>\n",
    "2. Instalar Azure CLI con el siguiente comando: "
   ]
  },
  {
   "cell_type": "markdown",
   "metadata": {},
   "source": [
    "*Nota: estas lineas de comando estan escritas para ejecutarlas directamente en esta celda usando el boton de run. Si la quieres correr directamente en la linea de comandos tienes que copiarla quitandole el caracter \"!\"*"
   ]
  },
  {
   "cell_type": "code",
   "execution_count": null,
   "metadata": {},
   "outputs": [],
   "source": [
    "!curl -sL https://aka.ms/InstallAzureCLIDeb | sudo bash"
   ]
  },
  {
   "cell_type": "markdown",
   "metadata": {},
   "source": [
    "*Despues de esto ya tendremos isntalada la CLI de Azure en nuestro espacio de trabajo.*"
   ]
  },
  {
   "cell_type": "markdown",
   "metadata": {},
   "source": [
    "3. Ahora ejecutaremos este comando para hacer login en Azure, esto lo haremos directamente desde la linea de comandos. Ahi tendremos que abrir el link que nos arroja el output y utilizar los numeros que la ventana te muestra para despues loggearte con tu cuenta. <br>\n",
    "Posteriormente volveras a la linea de comandos y elegiras el numero de suscripcion y tenant al que intentas conectar:"
   ]
  },
  {
   "cell_type": "markdown",
   "metadata": {
    "vscode": {
     "languageId": "shellscript"
    }
   },
   "source": [
    "*az login --allow-no-subscriptions*"
   ]
  },
  {
   "cell_type": "markdown",
   "metadata": {},
   "source": [
    "*Ahora ya estamos loggeados a nuestra cuenta en Azure desde la CLI*"
   ]
  },
  {
   "cell_type": "markdown",
   "metadata": {},
   "source": [
    "4. Entrar al icono de Databricks en tu espacio de VS Code que te debio aparecer posterior a la instalacion de databricks. Aca vas a ingresar a \"Create configuration\" , ,ingresa el host , dale en \"Azure CLI\", posteriormente ingresas un nombre para el entorno y sigues las instrucciones."
   ]
  },
  {
   "cell_type": "markdown",
   "metadata": {},
   "source": [
    "5. Despues de esto estaras conectado a tu espacio de trabajo de Databricks usando VS Code. Podras visualizar tus notebooks, cluster y espacios de trabajo desde la extension instalado de Databricks."
   ]
  },
  {
   "cell_type": "markdown",
   "metadata": {},
   "source": [
    "6. Conectate al repositorio de Git que te haya proporcionado el proyecto y preguntarle al adminsitrador por las politicas de este."
   ]
  }
 ],
 "metadata": {
  "kernelspec": {
   "display_name": "Python 3",
   "language": "python",
   "name": "python3"
  },
  "language_info": {
   "codemirror_mode": {
    "name": "ipython",
    "version": 3
   },
   "file_extension": ".py",
   "mimetype": "text/x-python",
   "name": "python",
   "nbconvert_exporter": "python",
   "pygments_lexer": "ipython3",
   "version": "3.12.1"
  }
 },
 "nbformat": 4,
 "nbformat_minor": 2
}
