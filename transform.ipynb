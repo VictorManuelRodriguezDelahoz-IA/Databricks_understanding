{
 "cells": [
  {
   "cell_type": "code",
   "execution_count": 1,
   "metadata": {},
   "outputs": [
    {
     "name": "stdout",
     "output_type": "stream",
     "text": [
      "Datos Originales:\n",
      "    venta_id  producto_id  cantidad       fecha  precio_unitario  descuento\n",
      "0       101          1.0         2  2023-10-26            10.50       0.00\n",
      "1       102          2.0         1  2023-10-26            20.00       0.10\n",
      "2       103          1.0         3  2023-10-27            15.75       0.00\n",
      "3       104          3.0         2  2023-10-27            25.00       0.05\n",
      "4       105          5.0         4  2023-10-28            12.25       0.00\n",
      "5       106          2.0        -1  2023-10-28            20.00       0.00\n",
      "6       107          NaN         3  2023-10-29              NaN       0.20\n"
     ]
    }
   ],
   "source": [
    "import pandas as pd\n",
    "import numpy as np\n",
    "\n",
    "# Simulación de DataFrame con datos de ventas\n",
    "data_ventas = {\n",
    "    'venta_id': [101, 102, 103, 104, 105, 106, 107],\n",
    "    'producto_id': [1, 2, 1, 3, 5, 2, np.nan],  # np.nan simula valores faltantes\n",
    "    'cantidad': [2, 1, 3, 2, 4, -1, 3],  # -1 simula un error de datos\n",
    "    'fecha': ['2023-10-26', '2023-10-26', '2023-10-27', '2023-10-27', '2023-10-28', '2023-10-28', '2023-10-29'],\n",
    "    'precio_unitario': [10.50, 20.00, 15.75, 25.00, 12.25, 20.00, np.nan],\n",
    "    'descuento': [0, 0.1, 0, 0.05, 0, 0, 0.2]  # Simula descuentos en decimales\n",
    "}\n",
    "\n",
    "df_ventas = pd.DataFrame(data_ventas)\n",
    "\n",
    "print(\"Datos Originales:\\n\", df_ventas)"
   ]
  }
 ],
 "metadata": {
  "kernelspec": {
   "display_name": "Python 3",
   "language": "python",
   "name": "python3"
  },
  "language_info": {
   "codemirror_mode": {
    "name": "ipython",
    "version": 3
   },
   "file_extension": ".py",
   "mimetype": "text/x-python",
   "name": "python",
   "nbconvert_exporter": "python",
   "pygments_lexer": "ipython3",
   "version": "3.12.1"
  }
 },
 "nbformat": 4,
 "nbformat_minor": 2
}
