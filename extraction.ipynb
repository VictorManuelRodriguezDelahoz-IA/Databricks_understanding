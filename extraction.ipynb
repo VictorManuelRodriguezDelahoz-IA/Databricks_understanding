{
 "cells": [
  {
   "cell_type": "code",
   "execution_count": 3,
   "metadata": {},
   "outputs": [
    {
     "name": "stdout",
     "output_type": "stream",
     "text": [
      "Datos de productos:\n",
      "   producto_id      nombre  precio\n",
      "0            1  Producto A   10.50\n",
      "1            2  Producto B   20.00\n",
      "2            3  Producto C   15.75\n",
      "3            4  Producto D   25.00\n",
      "4            5  Producto E   12.25\n",
      "\n",
      "Datos de ventas:\n",
      "   venta_id  producto_id  cantidad       fecha\n",
      "0       101            1         2  2023-10-26\n",
      "1       102            2         1  2023-10-26\n",
      "2       103            1         3  2023-10-27\n",
      "3       104            3         2  2023-10-27\n",
      "4       105            5         4  2023-10-28\n"
     ]
    }
   ],
   "source": [
    "import pandas as pd\n",
    "\n",
    "# Simulación de extracción de datos de productos\n",
    "data_productos = {\n",
    "    'producto_id': [1, 2, 3, 4, 5],\n",
    "    'nombre': ['Producto A', 'Producto B', 'Producto C', 'Producto D', 'Producto E'],\n",
    "    'precio': [10.50, 20.00, 15.75, 25.00, 12.25]\n",
    "}\n",
    "df_productos = pd.DataFrame(data_productos)\n",
    "\n",
    "# Simulación de extracción de datos de ventas\n",
    "data_ventas = {\n",
    "    'venta_id': [101, 102, 103, 104, 105],\n",
    "    'producto_id': [1, 2, 1, 3, 5],\n",
    "    'cantidad': [2, 1, 3, 2, 4],\n",
    "    'fecha': ['2023-10-26', '2023-10-26', '2023-10-27', '2023-10-27', '2023-10-28']\n",
    "}\n",
    "df_ventas = pd.DataFrame(data_ventas)\n",
    "\n",
    "print(\"Datos de productos:\")\n",
    "print(df_productos)\n",
    "print(\"\\nDatos de ventas:\")\n",
    "print(df_ventas)"
   ]
  }
 ],
 "metadata": {
  "kernelspec": {
   "display_name": "Python 3",
   "language": "python",
   "name": "python3"
  },
  "language_info": {
   "codemirror_mode": {
    "name": "ipython",
    "version": 3
   },
   "file_extension": ".py",
   "mimetype": "text/x-python",
   "name": "python",
   "nbconvert_exporter": "python",
   "pygments_lexer": "ipython3",
   "version": "3.12.1"
  }
 },
 "nbformat": 4,
 "nbformat_minor": 2
}
